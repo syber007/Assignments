{
 "cells": [
  {
   "cell_type": "markdown",
   "metadata": {},
   "source": [
    "Q1.1 Write a Python Program(with class concepts) to find the area of the triangle using the below\n",
    "    formula.\n",
    "    area = (s*(s-a)*(s-b)*(s-c)) ** 0.5\n",
    "    Function to take the length of the sides of triangle from user should be defined in the parent\n",
    "    class and function to calculate the area should be defined in subclass"
   ]
  },
  {
   "cell_type": "code",
   "execution_count": 4,
   "metadata": {},
   "outputs": [
    {
     "name": "stdout",
     "output_type": "stream",
     "text": [
      "Enter length of a: 2\n",
      "Enter length of b: 3.4\n",
      "Enter length of c: 5\n",
      "Area of Triangle:  2.447529366524538\n"
     ]
    }
   ],
   "source": [
    "class triangle:\n",
    "     def __init__(self,len1,len2,len3):\n",
    "        self.a = len1\n",
    "        self.b = len2\n",
    "        self.c = len3\n",
    "    \n",
    "class area(triangle):\n",
    "    def __init__(self,*args):\n",
    "        super(area,self).__init__(*args)\n",
    "        self.s = (self.a + self.b + self.c)/2\n",
    "        self.a = (self.s*(self.s-self.a)*(self.s-self.b)*(self.s-self.c)) ** 0.5\n",
    "        \n",
    "triangle_area = area(float(input(\"Enter length of a: \")),float(input(\"Enter length of b: \")),float(input(\"Enter length of c: \")))  \n",
    "print(\"Area of Triangle: \",triangle_area.a)"
   ]
  },
  {
   "cell_type": "markdown",
   "metadata": {},
   "source": [
    "Q1.2 Write a function filter_long_words() that takes a list of words and an integer n and returns\n",
    "     the list of words that are longer than n."
   ]
  },
  {
   "cell_type": "code",
   "execution_count": 28,
   "metadata": {
    "scrolled": true
   },
   "outputs": [
    {
     "name": "stdout",
     "output_type": "stream",
     "text": [
      "Enter the words: My name is Mohan Das Karam Chandra Gandhi\n",
      "Enter length: 4\n",
      "Filter long Words ['Mohan', 'Karam', 'Chandra', 'Gandhi']\n"
     ]
    }
   ],
   "source": [
    "def filter_long_words(lst,n):\n",
    "    return [i for i in lst if len(i) > n]\n",
    "  \n",
    "lst = list(map(str,input(\"Enter the words: \").split()))\n",
    "n = int(input(\"Enter length: \"))\n",
    "print(\"Filter long Words\",filter_long_words(lst,n))\n",
    "\n",
    "    "
   ]
  },
  {
   "cell_type": "markdown",
   "metadata": {},
   "source": [
    "Q2.1 Write a Python program using function concept that maps list of words into a list of integers\n",
    "     representing the lengths of the corresponding words.\n",
    "     Hint: If a list [ ab,cde,erty] is passed on to the python function output should come as [2,3,4]\n",
    "     Here 2,3 and 4 are the lengths of the words in the list."
   ]
  },
  {
   "cell_type": "code",
   "execution_count": 30,
   "metadata": {},
   "outputs": [
    {
     "name": "stdout",
     "output_type": "stream",
     "text": [
      "Enter the words: jack ryan\n",
      "Length of Words:  [4, 4]\n"
     ]
    }
   ],
   "source": [
    "def length_of_words(lst):\n",
    "    return [len(i) for i in lst]\n",
    "   \n",
    "lst = list(map(str,input(\"Enter the words: \").split()))\n",
    "print(\"Length of Words: \",length_of_words(lst))"
   ]
  },
  {
   "cell_type": "markdown",
   "metadata": {},
   "source": [
    "Q2.2 Write a Python function which takes a character (i.e. a string of length 1) and returns True if\n",
    "     it is a vowel, False otherwise."
   ]
  },
  {
   "cell_type": "code",
   "execution_count": 40,
   "metadata": {},
   "outputs": [
    {
     "name": "stdout",
     "output_type": "stream",
     "text": [
      "Enter a Character: a\n",
      "True\n"
     ]
    }
   ],
   "source": [
    " def vowel(char):\n",
    "    if len(char) == 1:\n",
    "        vowels = set('aeiou')\n",
    "        if char in vowels:\n",
    "            return True\n",
    "        else:\n",
    "            return False\n",
    "    else:\n",
    "        return \"Error:Enter only single alphabet\"\n",
    "    \n",
    "char = input(\"Enter a Character: \")\n",
    "print(vowel(char))"
   ]
  }
 ],
 "metadata": {
  "kernelspec": {
   "display_name": "Python 3",
   "language": "python",
   "name": "python3"
  },
  "language_info": {
   "codemirror_mode": {
    "name": "ipython",
    "version": 3
   },
   "file_extension": ".py",
   "mimetype": "text/x-python",
   "name": "python",
   "nbconvert_exporter": "python",
   "pygments_lexer": "ipython3",
   "version": "3.7.3"
  }
 },
 "nbformat": 4,
 "nbformat_minor": 2
}
