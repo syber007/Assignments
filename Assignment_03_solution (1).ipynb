{
 "cells": [
  {
   "cell_type": "markdown",
   "metadata": {},
   "source": [
    "Q1.1 Write a Python Program to implement your own myreduce() function which works exactly\n",
    "     like Python's built-in function reduce()"
   ]
  },
  {
   "cell_type": "code",
   "execution_count": 38,
   "metadata": {},
   "outputs": [
    {
     "name": "stdout",
     "output_type": "stream",
     "text": [
      "Enter list numbers: 11 22 33 44 99 88 77 66 55\n",
      "Max_number:  99\n"
     ]
    }
   ],
   "source": [
    "def myreduce(func,seq):\n",
    "    for i in seq[0:1]:\n",
    "         for j in seq[1:]:\n",
    "            i = func(i,j)\n",
    "    return i     \n",
    "\n",
    "\n",
    "max_find = lambda a,b: a if (a > b) else b\n",
    "f = list(map(int,input(\"Enter list numbers: \").split()))      \n",
    "print(\"Max_number: \",myreduce(max_find,f))\n",
    "\n"
   ]
  },
  {
   "cell_type": "markdown",
   "metadata": {},
   "source": [
    "Q1.2 Write a Python program to implement your own myfilter() function which works exactly\n",
    "     like Python's built-in function filter()"
   ]
  },
  {
   "cell_type": "code",
   "execution_count": 37,
   "metadata": {},
   "outputs": [
    {
     "name": "stdout",
     "output_type": "stream",
     "text": [
      "Enter list numbers: 0 1 2 3 4 5 6 7 8 9 10\n",
      "Even numbers list:  [0, 2, 4, 6, 8, 10]\n"
     ]
    }
   ],
   "source": [
    "def myfilter(function,sequence):\n",
    "    return [i for i in sequence if function(i)]\n",
    "\n",
    "\n",
    "def even_chk(num):\n",
    "    if num % 2 == 0:\n",
    "        return True\n",
    "    \n",
    "    \n",
    "f = list(map(int,input(\"Enter list numbers: \").split()))      \n",
    "print(\"Even numbers list: \",myfilter(even_chk,f))\n",
    "\n"
   ]
  },
  {
   "cell_type": "markdown",
   "metadata": {},
   "source": [
    "Q2: Implement List comprehensions to produce the following lists. \n",
    "    Write List comprehensions to produce the following Lists\n",
    "    \n",
    "    ['x', 'xx', 'xxx', 'xxxx', 'y', 'yy', 'yyy', 'yyyy', 'z', 'zz', 'zzz', 'zzzz'] \n",
    "    ['x', 'y', 'z', 'xx', 'yy', 'zz', 'xxx', 'yyy', 'zzz', 'xxxx', 'yyyy', 'zzzz'] \n",
    "    [[2], [3], [4], [3], [4], [5], [4], [5], [6]] [[2, 3, 4, 5],[3, 4, 5, 6],[4, 5, 6, 7], [5, 6, 7, 8]] \n",
    "    [(1, 1), (2, 1), (3, 1), (1, 2), (2, 2), (3, 2), (1, 3), (2, 3), (3, 3)] \n"
   ]
  },
  {
   "cell_type": "markdown",
   "metadata": {},
   "source": [
    "List_1"
   ]
  },
  {
   "cell_type": "code",
   "execution_count": 46,
   "metadata": {},
   "outputs": [
    {
     "name": "stdout",
     "output_type": "stream",
     "text": [
      "['x', 'y', 'z', 'xx', 'yy', 'zz', 'xxx', 'yyy', 'zzz', 'xxxx', 'yyyy', 'zzzz']\n"
     ]
    }
   ],
   "source": [
    "z=[i*j for i in range(1,5) for j in ['x','y','z']]\n",
    "print(z)"
   ]
  },
  {
   "cell_type": "markdown",
   "metadata": {},
   "source": [
    "List_2"
   ]
  },
  {
   "cell_type": "code",
   "execution_count": 6,
   "metadata": {},
   "outputs": [
    {
     "name": "stdout",
     "output_type": "stream",
     "text": [
      "['x', 'xx', 'xxx', 'xxxx', 'y', 'yy', 'yyy', 'yyyy', 'z', 'zz', 'zzz', 'zzzz']\n"
     ]
    }
   ],
   "source": [
    "z=[i*j for i in ['x','y','z'] for j in range(1,5)]\n",
    "print(z)"
   ]
  },
  {
   "cell_type": "markdown",
   "metadata": {},
   "source": [
    "List_3"
   ]
  },
  {
   "cell_type": "code",
   "execution_count": 45,
   "metadata": {},
   "outputs": [
    {
     "name": "stdout",
     "output_type": "stream",
     "text": [
      "[[2], [3], [4], [3], [4], [5], [4], [5], [6]] [[2, 3, 4, 5], [3, 4, 5, 6], [4, 5, 6, 7], [5, 6, 7, 8]]\n"
     ]
    }
   ],
   "source": [
    "m=[i for i in [[2],[3],[4],[3],[4],[5],[4],[5],[6]]]\n",
    "a=[[w for w in range(2,6)],[x for x in range(3,7)],[y for y in range(4,8)],[z for z in range(5,9)]]\n",
    "print(m,a)\n",
    "    "
   ]
  },
  {
   "cell_type": "markdown",
   "metadata": {},
   "source": [
    "List_4"
   ]
  },
  {
   "cell_type": "code",
   "execution_count": 7,
   "metadata": {},
   "outputs": [
    {
     "name": "stdout",
     "output_type": "stream",
     "text": [
      "[(1, 1), (2, 1), (3, 1), (1, 2), (2, 2), (3, 2), (1, 3), (2, 3), (3, 3)]\n"
     ]
    }
   ],
   "source": [
    "m_list = [i for i in [(1, 1), (2, 1), (3, 1), (1, 2), (2, 2), (3, 2), (1, 3), (2, 3), (3, 3)]]\n",
    "print(m_list)"
   ]
  }
 ],
 "metadata": {
  "kernelspec": {
   "display_name": "Python 3",
   "language": "python",
   "name": "python3"
  },
  "language_info": {
   "codemirror_mode": {
    "name": "ipython",
    "version": 3
   },
   "file_extension": ".py",
   "mimetype": "text/x-python",
   "name": "python",
   "nbconvert_exporter": "python",
   "pygments_lexer": "ipython3",
   "version": "3.7.3"
  }
 },
 "nbformat": 4,
 "nbformat_minor": 2
}
